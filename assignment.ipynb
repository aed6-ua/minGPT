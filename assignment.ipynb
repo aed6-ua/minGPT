{
 "cells": [
  {
   "cell_type": "code",
   "execution_count": 2,
   "metadata": {},
   "outputs": [
    {
     "name": "stderr",
     "output_type": "stream",
     "text": [
      "c:\\Users\\mcasa\\anaconda3\\envs\\nlpt\\lib\\site-packages\\tqdm\\auto.py:21: TqdmWarning: IProgress not found. Please update jupyter and ipywidgets. See https://ipywidgets.readthedocs.io/en/stable/user_install.html\n",
      "  from .autonotebook import tqdm as notebook_tqdm\n"
     ]
    }
   ],
   "source": [
    "import torch\n",
    "from transformers import GPT2Tokenizer, GPT2LMHeadModel\n",
    "from mingpt.model import GPT\n",
    "from mingpt.utils import set_seed\n",
    "from mingpt.bpe import BPETokenizer\n",
    "import matplotlib.pyplot as plt\n",
    "set_seed(3407)"
   ]
  },
  {
   "cell_type": "code",
   "execution_count": 3,
   "metadata": {},
   "outputs": [
    {
     "name": "stdout",
     "output_type": "stream",
     "text": [
      "Input: Michelle Jones was a top-notch student. Michelle\n",
      "Tokenized input: tensor([48736,  5437,   373,   257,  1353,    12,  1662,   354,  3710,    13,\n",
      "        16738])\n",
      "Number of input tokens: 11\n",
      "Detokenized input from indices: Michelle Jones was a top-notch student. Michelle\n",
      "Detokenized input as strings: Michelle/ Jones/ was/ a/ top/-/not/ch/ student/./ Michelle\n"
     ]
    }
   ],
   "source": [
    "input = \"Michelle Jones was a top-notch student. Michelle\"\n",
    "print(\"Input:\", input)\n",
    "bpe = BPETokenizer()\n",
    "# bpe() gets a string and returns a 2D batch tensor \n",
    "# of indices with shape (1, input_length)\n",
    "tokens = bpe(input)[0]\n",
    "print(\"Tokenized input:\", tokens)\n",
    "input_length = tokens.shape[-1]\n",
    "print(\"Number of input tokens:\", input_length)\n",
    "# bpe.decode gets a 1D tensor (list of indices) and returns a string\n",
    "print(\"Detokenized input from indices:\", bpe.decode(tokens))  \n",
    "tokens_str = []\n",
    "for token in tokens:\n",
    "    decoded_token = bpe.decode(torch.tensor([token]))\n",
    "    tokens_str.append(decoded_token)\n",
    "print(\"Detokenized input as strings: \" + '/'.join(tokens_str))\n"
   ]
  },
  {
   "cell_type": "code",
   "execution_count": 31,
   "metadata": {},
   "outputs": [],
   "source": [
    "model = 'gpt2-xl'\n",
    "device = \"cpu\""
   ]
  },
  {
   "cell_type": "code",
   "execution_count": 32,
   "metadata": {},
   "outputs": [
    {
     "name": "stdout",
     "output_type": "stream",
     "text": [
      "number of parameters: 1557.61M\n"
     ]
    }
   ],
   "source": [
    "model = GPT.from_pretrained(model)\n",
    "model.to(device)\n",
    "model.eval()\n",
    "use_minigpt = True"
   ]
  },
  {
   "cell_type": "code",
   "execution_count": 45,
   "metadata": {},
   "outputs": [],
   "source": [
    "\n",
    "def generate(prompt='', num_samples=10, steps=20, do_sample=True):\n",
    "\n",
    "\n",
    "# tokenize the input prompt into integer input sequence\n",
    "    tokenizer = BPETokenizer()\n",
    "    if prompt == '':\n",
    "        # to create unconditional samples...\n",
    "        # manually create a tensor with only the special <|endoftext|> token\n",
    "        # similar to what openai's code does here https://github.com/openai/gpt-2/blob/master/src/generate_unconditional_samples.py\n",
    "        x = torch.tensor([[tokenizer.encoder.encoder['<|endoftext|>']]], dtype=torch.long)\n",
    "    else:\n",
    "        x = tokenizer(prompt).to(device)\n",
    "    \n",
    "    # we'll process all desired num_samples in a batch, so expand out the batch dim\n",
    "    x = x.expand(num_samples, -1)\n",
    "\n",
    "    # forward the model `steps` times to get samples, in a batch\n",
    "    y = model.generate(x, max_new_tokens=steps, do_sample=do_sample, top_k=40)\n",
    "    \n",
    "    # Write outputs to file\n",
    "    with open('output2.txt', 'a', encoding='utf-8') as f:\n",
    "        f.write('-------------------------- Prompt: ' + prompt + '-----------------\\n\\n')\n",
    "        for i in range(num_samples):\n",
    "            out = tokenizer.decode(y[i].cpu().squeeze())\n",
    "            print('-'*80)\n",
    "            print(out)\n",
    "            f.write(out + '\\n' + '-' * 80 + '\\n')\n",
    "        f.write('\\n\\n\\n\\n')\n",
    "        "
   ]
  },
  {
   "cell_type": "code",
   "execution_count": 46,
   "metadata": {},
   "outputs": [
    {
     "name": "stdout",
     "output_type": "stream",
     "text": [
      "--------------------------------------------------------------------------------\n",
      "Michelle Jones was a top-notch student. Michelle graduated with a degree in criminal justice in June 2014, but she's not back in school this semester\n",
      "--------------------------------------------------------------------------------\n",
      "Michelle Jones was a top-notch student. Michelle was a member of our varsity volleyball team, and she was a member of our club tennis team\n",
      "--------------------------------------------------------------------------------\n",
      "Michelle Jones was a top-notch student. Michelle started at the University of Southern California at the end of the 9th grade. She was a freshman\n",
      "--------------------------------------------------------------------------------\n",
      "Michelle Jones was a top-notch student. Michelle was smart, she had a good personality, she worked hard, she got good grades, and she\n",
      "--------------------------------------------------------------------------------\n",
      "Michelle Jones was a top-notch student. Michelle was the last high-school student in New York City to graduate from the school of business. She\n",
      "--------------------------------------------------------------------------------\n",
      "Michelle Smith was a top-notch student. Michelle's teachers were shocked when she disappeared one morning in 1984. She had been studying for over a year\n",
      "--------------------------------------------------------------------------------\n",
      "Michelle Smith was a top-notch student. Michelle was going to become an architect. I felt really lucky to become a part of his life. A\n",
      "--------------------------------------------------------------------------------\n",
      "Michelle Smith was a top-notch student. Michelle was the class valedictorian. She had a scholarship to Yale Law School, a scholarship to\n",
      "--------------------------------------------------------------------------------\n",
      "Michelle Smith was a top-notch student. Michelle and her husband, Robert, were married in a traditional Catholic ceremony in 2001. Michelle Smith graduated from\n",
      "--------------------------------------------------------------------------------\n",
      "Michelle Smith was a top-notch student. Michelle was an honors student and a member of the debate team. However, Michelle has never won any of\n",
      "--------------------------------------------------------------------------------\n",
      "Jessica Jones was a top-notch student. Michelle Carter, who murdered her 17-year-old daughter with a knife, was a popular, bright\n",
      "--------------------------------------------------------------------------------\n",
      "Jessica Jones was a top-notch student. Michelle had taken her to the library to learn Mandarin. They would always go to the cafe that had a\n",
      "--------------------------------------------------------------------------------\n",
      "Jessica Jones was a top-notch student. Michelle Jones was at the top of her class. One would have expected the two of them to have some\n",
      "--------------------------------------------------------------------------------\n",
      "Jessica Jones was a top-notch student. Michelle was a top-notch student. But when I met Michelle at a bar, I couldn't\n",
      "--------------------------------------------------------------------------------\n",
      "Jessica Jones was a top-notch student. Michelle was an A student who would make people laugh. They were a perfect pair,\" said Kellett\n",
      "--------------------------------------------------------------------------------\n",
      "Michelle Smith was a top-notch student. Jessica's mother said she seemed to have a steady boyfriend, and she had just completed the sixth grade.\n",
      "--------------------------------------------------------------------------------\n",
      "Michelle Smith was a top-notch student. Jessica Albright was a star athlete.\n",
      "\n",
      "They're the youngest of three sisters who were among six\n",
      "--------------------------------------------------------------------------------\n",
      "Michelle Smith was a top-notch student. Jessica's mother, Nicole, told CBS News' \"48 Hours\" that her daughter was smart, talented\n",
      "--------------------------------------------------------------------------------\n",
      "Michelle Smith was a top-notch student. Jessica also had an excellent academic record, earning straight A's.\n",
      "\n",
      "\"She was one of the\n",
      "--------------------------------------------------------------------------------\n",
      "Michelle Smith was a top-notch student. Jessica was a brilliant student, well-liked and beloved. She made so many friends. We were\n"
     ]
    }
   ],
   "source": [
    "inputs =['Michelle Jones was a top-notch student. Michelle',\n",
    "         'Michelle Smith was a top-notch student. Michelle',\n",
    "         'Jessica Jones was a top-notch student. Michelle',\n",
    "         'Michelle Smith was a top-notch student. Jessica']\n",
    "\n",
    "for input in inputs:\n",
    "    generate(prompt=input, num_samples=5, steps=20, do_sample=True)"
   ]
  },
  {
   "cell_type": "markdown",
   "metadata": {},
   "source": [
    "# Implementation for the experiment"
   ]
  },
  {
   "cell_type": "code",
   "execution_count": 130,
   "metadata": {},
   "outputs": [
    {
     "name": "stdout",
     "output_type": "stream",
     "text": [
      "number of parameters: 124.44M\n"
     ]
    },
    {
     "name": "stderr",
     "output_type": "stream",
     "text": [
      "C:\\Users\\mcasa\\AppData\\Local\\Temp\\ipykernel_13516\\4261284214.py:22: UserWarning: To copy construct from a tensor, it is recommended to use sourceTensor.clone().detach() or sourceTensor.clone().detach().requires_grad_(True), rather than torch.tensor(sourceTensor).\n",
      "  input_ids = torch.tensor(inputs).unsqueeze(0).to(device)  # Convert list to tensor, add batch dimension, and move to device\n"
     ]
    },
    {
     "name": "stdout",
     "output_type": "stream",
     "text": [
      "Clean logics shape: torch.Size([10, 50257])\n",
      "Clean IDs shape: torch.Size([1, 11])\n",
      "Shape for probs: torch.Size([10, 50257])\n",
      "Shape for token_ids: torch.Size([1, 11])\n",
      "Shape for probs: torch.Size([10, 50257])\n",
      "Shape for token_ids: torch.Size([1, 11])\n"
     ]
    },
    {
     "data": {
      "image/png": "[encoded data removed]",
      "text/plain": [
       "<Figure size 1000x600 with 2 Axes>"
      ]
     },
     "metadata": {},
     "output_type": "display_data"
    },
    {
     "ename": "AssertionError",
     "evalue": "",
     "output_type": "error",
     "traceback": [
      "\u001b[1;31m---------------------------------------------------------------------------\u001b[0m",
      "\u001b[1;31mAssertionError\u001b[0m                            Traceback (most recent call last)",
      "Cell \u001b[1;32mIn[130], line 83\u001b[0m\n\u001b[0;32m     81\u001b[0m \u001b[38;5;66;03m# Print analysis results for token probabilities\u001b[39;00m\n\u001b[0;32m     82\u001b[0m \u001b[38;5;28;01mfor\u001b[39;00m i, (clean, corrupt, diff) \u001b[38;5;129;01min\u001b[39;00m \u001b[38;5;28menumerate\u001b[39m(\u001b[38;5;28mzip\u001b[39m(clean_probs, corrupted_probs, prob_diff)):\n\u001b[1;32m---> 83\u001b[0m     token \u001b[38;5;241m=\u001b[39m \u001b[43mtokenizer\u001b[49m\u001b[38;5;241;43m.\u001b[39;49m\u001b[43mdecode\u001b[49m\u001b[43m(\u001b[49m\u001b[43mclean_ids\u001b[49m\u001b[43m[\u001b[49m\u001b[38;5;241;43m0\u001b[39;49m\u001b[43m]\u001b[49m\u001b[43m[\u001b[49m\u001b[43mi\u001b[49m\u001b[43m]\u001b[49m\u001b[43m)\u001b[49m\n\u001b[0;32m     84\u001b[0m     \u001b[38;5;28mprint\u001b[39m(\u001b[38;5;124mf\u001b[39m\u001b[38;5;124m\"\u001b[39m\u001b[38;5;124mToken: \u001b[39m\u001b[38;5;132;01m{\u001b[39;00mtoken\u001b[38;5;132;01m}\u001b[39;00m\u001b[38;5;124m | Clean Prob: \u001b[39m\u001b[38;5;132;01m{\u001b[39;00mclean\u001b[38;5;132;01m:\u001b[39;00m\u001b[38;5;124m.4f\u001b[39m\u001b[38;5;132;01m}\u001b[39;00m\u001b[38;5;124m | Corrupt Prob: \u001b[39m\u001b[38;5;132;01m{\u001b[39;00mcorrupt\u001b[38;5;132;01m:\u001b[39;00m\u001b[38;5;124m.4f\u001b[39m\u001b[38;5;132;01m}\u001b[39;00m\u001b[38;5;124m | Diff: \u001b[39m\u001b[38;5;132;01m{\u001b[39;00mdiff\u001b[38;5;132;01m:\u001b[39;00m\u001b[38;5;124m.4f\u001b[39m\u001b[38;5;132;01m}\u001b[39;00m\u001b[38;5;124m\"\u001b[39m)\n",
      "File \u001b[1;32mc:\\Users\\mcasa\\Documents\\UA\\NLPT\\minGPT\\mingpt\\bpe.py:276\u001b[0m, in \u001b[0;36mBPETokenizer.decode\u001b[1;34m(self, idx)\u001b[0m\n\u001b[0;32m    274\u001b[0m \u001b[38;5;28;01mdef\u001b[39;00m\u001b[38;5;250m \u001b[39m\u001b[38;5;21mdecode\u001b[39m(\u001b[38;5;28mself\u001b[39m, idx):\n\u001b[0;32m    275\u001b[0m     \u001b[38;5;66;03m# ensure a simple 1D tensor for now\u001b[39;00m\n\u001b[1;32m--> 276\u001b[0m     \u001b[38;5;28;01massert\u001b[39;00m idx\u001b[38;5;241m.\u001b[39mndim \u001b[38;5;241m==\u001b[39m \u001b[38;5;241m1\u001b[39m\n\u001b[0;32m    277\u001b[0m     \u001b[38;5;66;03m# decode indices to text\u001b[39;00m\n\u001b[0;32m    278\u001b[0m     text \u001b[38;5;241m=\u001b[39m \u001b[38;5;28mself\u001b[39m\u001b[38;5;241m.\u001b[39mencoder\u001b[38;5;241m.\u001b[39mdecode(idx\u001b[38;5;241m.\u001b[39mtolist())\n",
      "\u001b[1;31mAssertionError\u001b[0m: "
     ]
    }
   ],
   "source": [
    "import torch\n",
    "from mingpt.model import GPT\n",
    "from mingpt.utils import set_seed\n",
    "from mingpt.bpe import BPETokenizer\n",
    "import matplotlib.pyplot as plt\n",
    "import seaborn as sns\n",
    "\n",
    "# Load GPT-2 model and tokenizer\n",
    "device = torch.device(\"cuda\" if torch.cuda.is_available() else \"cpu\")\n",
    "tokenizer = BPETokenizer()\n",
    "model = GPT.from_pretrained('gpt2')\n",
    "model.eval()\n",
    "\n",
    "# Define clean and corrupted texts\n",
    "clean_text = \"Michelle Jones was a top-notch student. Michelle\"\n",
    "corrupted_text = \"Michelle Smith was a top-notch student. Michelle\"\n",
    "\n",
    "def get_token_logits(text):\n",
    "    # Tokenize the text using BPETokenizer\n",
    "    inputs = tokenizer(text)  # Get a list of token IDs\n",
    "\n",
    "    input_ids = torch.tensor(inputs).unsqueeze(0).to(device)  # Convert list to tensor, add batch dimension, and move to device\n",
    "\n",
    "    with torch.no_grad():\n",
    "        outputs = model.forward(input_ids[0])  # Get logits from the model\n",
    "    \n",
    "    # The output is likely a tuple, so we need to unpack it\n",
    "    logits = outputs[0]  # The logits are typically the first element in the tuple\n",
    "\n",
    "    logits = logits[0, :-1, :]  # Extract logits for all tokens except the last one\n",
    "    return logits, input_ids[0]\n",
    "\n",
    "\n",
    "\n",
    "# Get logits for clean and corrupted inputs\n",
    "clean_logits, clean_ids = get_token_logits(clean_text)\n",
    "corrupted_logits, corrupted_ids = get_token_logits(corrupted_text)\n",
    "\n",
    "print(\"Clean logics shape:\", clean_logits.shape)\n",
    "\n",
    "print(\"Clean IDs shape:\", clean_ids.shape)\n",
    "\n",
    "\n",
    "# Convert logits to probabilities\n",
    "def get_token_probabilities(logits, token_ids):\n",
    "    # Apply softmax to convert logits to probabilities\n",
    "    probs = torch.nn.functional.softmax(logits, dim=-1)\n",
    "    print(\"Shape for probs:\", probs.shape)\n",
    "    print(\"Shape for token_ids:\", token_ids.shape)\n",
    "\n",
    "    # Fix token_ids to match the sequence length of logits (10 tokens, not 11)\n",
    "    token_ids = token_ids.squeeze(0)  # Remove the batch dimension (shape becomes [11])\n",
    "    \n",
    "    # Remove the first token, which is often padding or a special token\n",
    "    token_ids = token_ids[1:]  # Now token_ids has shape [10], matching the sequence length of probs\n",
    "\n",
    "    # Gather probabilities for the specific tokens in the sequence\n",
    "    token_probs = torch.gather(probs, dim=-1, index=token_ids.unsqueeze(-1))  # Skip the first token\n",
    "    return token_probs.cpu().numpy()\n",
    "\n",
    "clean_probs = get_token_probabilities(clean_logits, clean_ids)\n",
    "corrupted_probs = get_token_probabilities(corrupted_logits, corrupted_ids)\n",
    "\n",
    "# Compute logit differences\n",
    "logit_diff = (clean_logits - corrupted_logits).cpu().numpy()\n",
    "prob_diff = (clean_probs - corrupted_probs)\n",
    "\n",
    "logit_diff = torch.tensor(logit_diff)\n",
    "prob_diff = torch.tensor(prob_diff)\n",
    "\n",
    "\n",
    "\n",
    "# Visualize the results\n",
    "plt.figure(figsize=(10, 6))\n",
    "sns.heatmap(logit_diff.squeeze(0).T, cmap=\"coolwarm\", annot=False, xticklabels=tokenizer.decode(clean_ids[0]), yticklabels=False)\n",
    "plt.title(\"Logit Differences Heatmap (Clean vs Corrupted)\")\n",
    "plt.xlabel(\"Token Position\")\n",
    "plt.ylabel(\"Vocabulary Index\")\n",
    "plt.show()\n",
    "\n",
    "# Print analysis results for token probabilities\n",
    "for i, (clean, corrupt, diff) in enumerate(zip(clean_probs, corrupted_probs, prob_diff)):\n",
    "    token = tokenizer.decode(clean_ids[0][i])\n",
    "    print(f\"Token: {token} | Clean Prob: {clean:.4f} | Corrupt Prob: {corrupt:.4f} | Diff: {diff:.4f}\")\n"
   ]
  }
 ],
 "metadata": {
  "kernelspec": {
   "display_name": "nlpt",
   "language": "python",
   "name": "python3"
  },
  "language_info": {
   "codemirror_mode": {
    "name": "ipython",
    "version": 3
   },
   "file_extension": ".py",
   "mimetype": "text/x-python",
   "name": "python",
   "nbconvert_exporter": "python",
   "pygments_lexer": "ipython3",
   "version": "3.9.21"
  }
 },
 "nbformat": 4,
 "nbformat_minor": 2
}
