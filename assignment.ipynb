{
 "cells": [
  {
   "cell_type": "code",
   "execution_count": 4,
   "metadata": {},
   "outputs": [
    {
     "name": "stdout",
     "output_type": "stream",
     "text": [
      "Input: Michelle Jones was a top-notch student. Michelle\n",
      "Tokenized input: tensor([48736,  5437,   373,   257,  1353,    12,  1662,   354,  3710,    13,\n",
      "        16738])\n",
      "Number of input tokens: 11\n",
      "Detokenized input from indices: Michelle Jones was a top-notch student. Michelle\n",
      "Detokenized input as strings: Michelle/ Jones/ was/ a/ top/-/not/ch/ student/./ Michelle\n"
     ]
    }
   ],
   "source": [
    "from mingpt.bpe import BPETokenizer\n",
    "import torch\n",
    "\n",
    "input = \"Michelle Jones was a top-notch student. Michelle\"\n",
    "print(\"Input:\", input)\n",
    "bpe = BPETokenizer()\n",
    "# bpe() gets a string and returns a 2D batch tensor \n",
    "# of indices with shape (1, input_length)\n",
    "tokens = bpe(input)[0]\n",
    "print(\"Tokenized input:\", tokens)\n",
    "input_length = tokens.shape[-1]\n",
    "print(\"Number of input tokens:\", input_length)\n",
    "# bpe.decode gets a 1D tensor (list of indices) and returns a string\n",
    "print(\"Detokenized input from indices:\", bpe.decode(tokens))  \n",
    "tokens_str = [bpe.decode(torch.tensor([token])) for token in tokens]\n",
    "print(\"Detokenized input as strings: \" + '/'.join(tokens_str))"
   ]
  }
 ],
 "metadata": {
  "kernelspec": {
   "display_name": "venv",
   "language": "python",
   "name": "python3"
  },
  "language_info": {
   "codemirror_mode": {
    "name": "ipython",
    "version": 3
   },
   "file_extension": ".py",
   "mimetype": "text/x-python",
   "name": "python",
   "nbconvert_exporter": "python",
   "pygments_lexer": "ipython3",
   "version": "3.13.1"
  }
 },
 "nbformat": 4,
 "nbformat_minor": 2
}
